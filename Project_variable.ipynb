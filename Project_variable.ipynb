{
  "nbformat": 4,
  "nbformat_minor": 0,
  "metadata": {
    "colab": {
      "provenance": []
    },
    "kernelspec": {
      "name": "python3",
      "display_name": "Python 3"
    },
    "language_info": {
      "name": "python"
    }
  },
  "cells": [
    {
      "cell_type": "markdown",
      "source": [
        "Budget Tracker: Track income and expenses."
      ],
      "metadata": {
        "id": "vcSU2pTHX_KQ"
      }
    },
    {
      "cell_type": "code",
      "source": [
        "# Set up basic structure\n",
        "balance = 0.0\n",
        "\n",
        "#  Create functions\n",
        "def add_income(amount):\n",
        "  global balance\n",
        "  balance+=amount\n",
        "  print(f\"Current Balance={balance:.2f}\")\n",
        "\n",
        "def Sub_income(amount):\n",
        "  global balance\n",
        "  balance-=amount\n",
        "  print(f\"Current Balance={balance:.2f}\")\n",
        "\n",
        "# Input data + display + validation\n",
        "while True:\n",
        "  choice = input(\"Enter choice (1(Income)/2(Expense)(/3(Final Value)): \")\n",
        "  if choice==\"3\":\n",
        "    print(f\"Final Value={balance:.2f}\")\n",
        "    break\n",
        "\n",
        "  if choice in [\"1\",\"2\"]:\n",
        "\n",
        "    try:\n",
        "      amount=float(input(\"Enter the vlaue\"))\n",
        "    except ValueError:\n",
        "      print(\"not true\")\n",
        "    if choice == \"1\":\n",
        "      add_income(amount)\n",
        "    if choice == \"2\":\n",
        "      Sub_income(amount)\n",
        "    else:\n",
        "        print(\"⚠️ Please enter a valid choice (1/2/3).\")\n",
        "\n",
        "\n",
        "\n",
        "\n"
      ],
      "metadata": {
        "colab": {
          "base_uri": "https://localhost:8080/"
        },
        "id": "fCgrGZnPYxJ-",
        "outputId": "9b03419f-04a7-413e-cfda-e5553e81c004"
      },
      "execution_count": 20,
      "outputs": [
        {
          "output_type": "stream",
          "name": "stdout",
          "text": [
            "Enter choice (1(Income)/2(Expense)(/3(Final Value)): 1\n",
            "Enter the vlaue3000\n",
            "Current Balance=3000.00\n",
            "⚠️ Please enter a valid choice (1/2/3).\n",
            "Enter choice (1(Income)/2(Expense)(/3(Final Value)): 2\n",
            "Enter the vlaue500\n",
            "Current Balance=2500.00\n",
            "Enter choice (1(Income)/2(Expense)(/3(Final Value)): 1\n",
            "Enter the vlaue4000\n",
            "Current Balance=6500.00\n",
            "⚠️ Please enter a valid choice (1/2/3).\n",
            "Enter choice (1(Income)/2(Expense)(/3(Final Value)): 4\n",
            "Enter choice (1(Income)/2(Expense)(/3(Final Value)): 3\n",
            "Final Value=6500.00\n"
          ]
        }
      ]
    }
  ]
}