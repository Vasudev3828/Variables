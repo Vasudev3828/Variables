{
  "nbformat": 4,
  "nbformat_minor": 0,
  "metadata": {
    "colab": {
      "provenance": []
    },
    "kernelspec": {
      "name": "python3",
      "display_name": "Python 3"
    },
    "language_info": {
      "name": "python"
    }
  },
  "cells": [
    {
      "cell_type": "markdown",
      "source": [
        "# 1. Create a variable to store your name and print it."
      ],
      "metadata": {
        "id": "pB0TvoGE9rcU"
      }
    },
    {
      "cell_type": "code",
      "execution_count": null,
      "metadata": {
        "colab": {
          "base_uri": "https://localhost:8080/"
        },
        "id": "paF2LfiF9qZL",
        "outputId": "61863a5a-a06c-4b31-fd7c-57920e51cabe"
      },
      "outputs": [
        {
          "output_type": "stream",
          "name": "stdout",
          "text": [
            "Vasudev\n"
          ]
        }
      ],
      "source": [
        "name = \"Vasudev\"\n",
        "print(name)"
      ]
    },
    {
      "cell_type": "markdown",
      "source": [
        "# 2. Assign your age to a variable and print it."
      ],
      "metadata": {
        "id": "fLCGiwve90dz"
      }
    },
    {
      "cell_type": "code",
      "source": [
        "age = 31\n",
        "print(age)"
      ],
      "metadata": {
        "colab": {
          "base_uri": "https://localhost:8080/"
        },
        "id": "g_DRVu-392on",
        "outputId": "e90d24b1-71a6-4bdc-fd30-f4005c094056"
      },
      "execution_count": null,
      "outputs": [
        {
          "output_type": "stream",
          "name": "stdout",
          "text": [
            "31\n"
          ]
        }
      ]
    },
    {
      "cell_type": "markdown",
      "source": [
        "### 3. Create a variable to store the price of an item and another variable to store the quantity. Calculate and print the total cost."
      ],
      "metadata": {
        "id": "nE3EP3oZ98jJ"
      }
    },
    {
      "cell_type": "code",
      "source": [
        "price_per_item = 20.99\n",
        "quantity = 3\n",
        "total_cost = price_per_item * quantity\n",
        "print(total_cost)\n"
      ],
      "metadata": {
        "colab": {
          "base_uri": "https://localhost:8080/"
        },
        "id": "SEafP5re-CU0",
        "outputId": "e987990f-0be3-4953-d34d-5f85a1a83c5b"
      },
      "execution_count": null,
      "outputs": [
        {
          "output_type": "stream",
          "name": "stdout",
          "text": [
            "62.97\n"
          ]
        }
      ]
    },
    {
      "cell_type": "markdown",
      "source": [
        "# 4. Store the result of an addition operation (e.g., 5 + 7) in a variable and print the result."
      ],
      "metadata": {
        "id": "_WUk20hf-SO_"
      }
    },
    {
      "cell_type": "code",
      "source": [
        "result = 5 + 7\n",
        "print(result)"
      ],
      "metadata": {
        "colab": {
          "base_uri": "https://localhost:8080/"
        },
        "id": "6d_teHJB-X21",
        "outputId": "fb36f981-2284-43ac-9e27-e104dbd0f389"
      },
      "execution_count": null,
      "outputs": [
        {
          "output_type": "stream",
          "name": "stdout",
          "text": [
            "12\n"
          ]
        }
      ]
    },
    {
      "cell_type": "markdown",
      "source": [
        "# 5. Create two variables, x and y, and assign them integer values. Swap their values and print both variables."
      ],
      "metadata": {
        "id": "h_tgm_Uy-eG1"
      }
    },
    {
      "cell_type": "code",
      "source": [
        "x = 10\n",
        "y = 20\n",
        "x, y = y, x\n",
        "print(\"x,y=\",x,y)"
      ],
      "metadata": {
        "colab": {
          "base_uri": "https://localhost:8080/"
        },
        "id": "LaGqAxT_-giH",
        "outputId": "9f8f252f-9278-4209-f76f-721d1420e9bc"
      },
      "execution_count": null,
      "outputs": [
        {
          "output_type": "stream",
          "name": "stdout",
          "text": [
            "x,y= 20 10\n"
          ]
        }
      ]
    },
    {
      "cell_type": "markdown",
      "source": [
        "# 6. Create a variable to store your favorite color and print a message including the color."
      ],
      "metadata": {
        "id": "d_OKDUFg_Dfs"
      }
    },
    {
      "cell_type": "code",
      "source": [
        "favorite_color = \"blue\"\n",
        "print(\"My favorite color is\",favorite_color)"
      ],
      "metadata": {
        "colab": {
          "base_uri": "https://localhost:8080/"
        },
        "id": "E_JsAd-m_Gjl",
        "outputId": "adf155c7-13f7-4b5a-f1cf-ba0747c3fdc4"
      },
      "execution_count": null,
      "outputs": [
        {
          "output_type": "stream",
          "name": "stdout",
          "text": [
            "My favorite color is blue\n"
          ]
        }
      ]
    },
    {
      "cell_type": "markdown",
      "source": [
        "# 7. Assign a boolean value to a variable indicating whether you are a student (True or False). Print the value of the variable."
      ],
      "metadata": {
        "id": "jb7dHIQg_POV"
      }
    },
    {
      "cell_type": "code",
      "source": [
        "is_student = True\n",
        "print(is_student)"
      ],
      "metadata": {
        "colab": {
          "base_uri": "https://localhost:8080/"
        },
        "id": "ZRVFAHt__QKK",
        "outputId": "e20538c0-0006-467b-d947-3876cb6fd37a"
      },
      "execution_count": null,
      "outputs": [
        {
          "output_type": "stream",
          "name": "stdout",
          "text": [
            "True\n"
          ]
        }
      ]
    },
    {
      "cell_type": "markdown",
      "source": [
        "# 8. Store a decimal number in a variable and print it rounded to two decimal places."
      ],
      "metadata": {
        "id": "BQbM6RwW_Xbg"
      }
    },
    {
      "cell_type": "code",
      "source": [
        "decimal_number = 5.6789\n",
        "rounded_number = round(decimal_number, 2)\n",
        "print(rounded_number)"
      ],
      "metadata": {
        "colab": {
          "base_uri": "https://localhost:8080/"
        },
        "id": "ksHCjuo1_ars",
        "outputId": "84cd5c31-d422-4dcf-912d-8a9a0cdc0d4c"
      },
      "execution_count": null,
      "outputs": [
        {
          "output_type": "stream",
          "name": "stdout",
          "text": [
            "5.68\n"
          ]
        }
      ]
    },
    {
      "cell_type": "markdown",
      "source": [
        "# 9. Create a variable to store your height in meters and another variable to store your weight in kilograms. Print a message that includes both values."
      ],
      "metadata": {
        "id": "xDxpCsWx_sgg"
      }
    },
    {
      "cell_type": "code",
      "source": [
        "height = 1.75  # Height in meters\n",
        "weight = 70  # Weight in kg\n",
        "print(\"Height in Meter=\",height,\"\\nWeight in Kg=\",weight)"
      ],
      "metadata": {
        "colab": {
          "base_uri": "https://localhost:8080/"
        },
        "id": "7sS-Rc2R_vL_",
        "outputId": "fdca4eb1-b734-488c-9968-bf356c2f9a71"
      },
      "execution_count": null,
      "outputs": [
        {
          "output_type": "stream",
          "name": "stdout",
          "text": [
            "Height in Meter= 1.75 \n",
            "Weight in Kg= 70\n"
          ]
        }
      ]
    },
    {
      "cell_type": "markdown",
      "source": [
        "# 10. Create a variable to store a greeting message, and then concatenate it with another message to form a full sentence. Print the full sentence.\n"
      ],
      "metadata": {
        "id": "or5zR8bXAM4X"
      }
    },
    {
      "cell_type": "code",
      "source": [
        "greeting = \"Hello\"\n",
        "full_sentence = greeting + \", welcome to the Bangalore Vasudev\"\n",
        "print(full_sentence)"
      ],
      "metadata": {
        "colab": {
          "base_uri": "https://localhost:8080/"
        },
        "id": "u4lhjmv6AO62",
        "outputId": "2c3f7b44-42cb-4edc-c06e-3f37fd75ecee"
      },
      "execution_count": 2,
      "outputs": [
        {
          "output_type": "stream",
          "name": "stdout",
          "text": [
            "Hello, welcome to the Bangalore Vasudev\n"
          ]
        }
      ]
    }
  ]
}