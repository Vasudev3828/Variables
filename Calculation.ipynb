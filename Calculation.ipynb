{
  "nbformat": 4,
  "nbformat_minor": 0,
  "metadata": {
    "colab": {
      "provenance": [],
      "authorship_tag": "ABX9TyMgRuEsjkXrxusALQfam8Kd",
      "include_colab_link": true
    },
    "kernelspec": {
      "name": "python3",
      "display_name": "Python 3"
    },
    "language_info": {
      "name": "python"
    }
  },
  "cells": [
    {
      "cell_type": "markdown",
      "metadata": {
        "id": "view-in-github",
        "colab_type": "text"
      },
      "source": [
        "<a href=\"https://colab.research.google.com/github/Vasudev3828/Variables/blob/main/Calculation.ipynb\" target=\"_parent\"><img src=\"https://colab.research.google.com/assets/colab-badge.svg\" alt=\"Open In Colab\"/></a>"
      ]
    },
    {
      "cell_type": "markdown",
      "source": [
        "Perform Calculation"
      ],
      "metadata": {
        "id": "7KSWiIUt4WtL"
      }
    },
    {
      "cell_type": "code",
      "execution_count": 13,
      "metadata": {
        "colab": {
          "base_uri": "https://localhost:8080/"
        },
        "id": "F-6qx3T63xFu",
        "outputId": "e200b03b-036c-4c7c-e796-197d0fee8b4d"
      },
      "outputs": [
        {
          "output_type": "stream",
          "name": "stdout",
          "text": [
            "Enter the Operation You would like to perform\n",
            "Press 1 for Addition\n",
            "Press 2 for Subtraction\n",
            "Press 3 for multiplication\n",
            "Press 4 for Division\n",
            "Enter the Choice1\n",
            "Enter the first Number 12\n",
            "Enter the Second number 16\n",
            "The Total Value of a + b is :28.0\n",
            "Do you want to perform another calculation? (yes/no): yes\n",
            "Enter the Operation You would like to perform\n",
            "Press 1 for Addition\n",
            "Press 2 for Subtraction\n",
            "Press 3 for multiplication\n",
            "Press 4 for Division\n",
            "Enter the Choice3\n",
            "Enter the first Number 34\n",
            "Enter the Second number 56\n",
            "The Total Value of a * b is :1904.0\n",
            "Do you want to perform another calculation? (yes/no): no\n",
            "Exiting the calculator. Goodbye!\n"
          ]
        }
      ],
      "source": [
        "def add(a,b):\n",
        "  return a + b\n",
        "\n",
        "def sub(a,b):\n",
        "  return a - b\n",
        "\n",
        "def mul(a,b):\n",
        "  return a * b\n",
        "\n",
        "def div(a,b):\n",
        "  if b == 0:\n",
        "    return \"Error! Division by zero.\"\n",
        "  return a / b\n",
        "\n",
        "while True :\n",
        "  print(\"Enter the Operation You would like to perform\")\n",
        "  print(\"Press 1 for Addition\")\n",
        "  print(\"Press 2 for Subtraction\")\n",
        "  print(\"Press 3 for multiplication\")\n",
        "  print(\"Press 4 for Division\")\n",
        "\n",
        "  choice = input(\"Enter the Choice\")\n",
        "\n",
        "  try:\n",
        "    Num1=float(input(\"Enter the first Number \"))\n",
        "    Num2=float(input(\"Enter the Second number \"))\n",
        "  except ValueError:\n",
        "    print(\"Invalid input! Please enter numbers.\")\n",
        "    continue\n",
        "\n",
        "\n",
        "  if choice == '1':\n",
        "    print(f\"The Total Value of a + b is :{add(Num1,Num2)}\")\n",
        "\n",
        "  if choice == '2':\n",
        "    print(f\"The Total Value of a - b is :{sub(Num1,Num2)}\")\n",
        "\n",
        "  if choice == '3':\n",
        "    print(f\"The Total Value of a * b is :{mul(Num1,Num2)}\")\n",
        "\n",
        "  if choice == '4':\n",
        "    print(f\"The Total Value of a / b is :{div(Num1,Num2)}\")\n",
        "\n",
        "  next_calculation = input(\"Do you want to perform another calculation? (yes/no): \").lower()\n",
        "  if next_calculation != 'yes':\n",
        "      print(\"Exiting the calculator. Goodbye!\")\n",
        "      break\n",
        "\n",
        "\n",
        "\n",
        "\n"
      ]
    }
  ]
}